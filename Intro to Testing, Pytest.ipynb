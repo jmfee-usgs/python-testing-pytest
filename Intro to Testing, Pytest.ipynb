{
 "cells": [
  {
   "cell_type": "markdown",
   "source": [
    "# GHSC HazDev Summer Python Tutorial Series\r\n",
    "## Intro to Testing, Pytest\r\n",
    "August 25, 2021\r\n"
   ],
   "metadata": {}
  },
  {
   "cell_type": "markdown",
   "source": [
    "### Why Test?\r\n",
    "\r\n",
    "- Verify behavior\r\n",
    "- Prevent regression\r\n",
    "- Document usage/requirements\r\n",
    "- Refactor with confidence\r\n"
   ],
   "metadata": {}
  },
  {
   "cell_type": "markdown",
   "source": [
    "### Arrange, Act, Assert pattern\r\n",
    "\r\n",
    "#### Arrange\r\n",
    "\r\n",
    "Set up test preconditions\r\n",
    "\r\n",
    "#### Act\r\n",
    "\r\n",
    "Action being tested\r\n",
    "\r\n",
    "#### Assert\r\n",
    "\r\n",
    "Check that action has expected results\r\n"
   ],
   "metadata": {}
  },
  {
   "cell_type": "code",
   "execution_count": 17,
   "source": [
    "def test_pow():\r\n",
    "    # arrange\r\n",
    "    base, exponent = 2, 3\r\n",
    "    expected = 8\r\n",
    "    # act\r\n",
    "    actual = pow(base, exponent)\r\n",
    "    # assert\r\n",
    "    assert actual == expected  # comment describing assertion\r\n",
    "\r\n",
    "\r\n",
    "test_pow()\r\n"
   ],
   "outputs": [],
   "metadata": {}
  },
  {
   "cell_type": "markdown",
   "source": [
    "### Numpy\r\n",
    "\r\n",
    "`numpy.testing` has useful assertion functions for arrays and floating point.\r\n",
    "\r\n",
    "https://numpy.org/doc/stable/reference/routines.testing.html\r\n"
   ],
   "metadata": {}
  },
  {
   "cell_type": "code",
   "execution_count": 31,
   "source": [
    "import numpy\r\n",
    "from numpy.testing import assert_allclose\r\n",
    "\r\n",
    "\r\n",
    "def test_pi():\r\n",
    "    expected = 3.14159\r\n",
    "    actual = numpy.pi\r\n",
    "\r\n",
    "    assert_allclose(actual, expected, atol=1e-5, rtol=0)\r\n",
    "\r\n",
    "\r\n",
    "test_pi()"
   ],
   "outputs": [],
   "metadata": {}
  },
  {
   "cell_type": "markdown",
   "source": [
    "### Types of Tests\r\n",
    "\r\n",
    "- Test complexity increases moving from Unit to Integration, or Integration to End to End.\r\n",
    "- Generally more Unit tests than Integration tests, and more Integration tests than End to End tests.\r\n",
    "\r\n",
    "\r\n",
    "#### Unit\r\n",
    "\r\n",
    "One method or class\r\n",
    "\r\n",
    "#### Integration\r\n",
    "\r\n",
    "Multiple units working together\r\n",
    "\r\n",
    "#### End to End\r\n",
    "\r\n",
    "Full system, possibly with real data\r\n"
   ],
   "metadata": {}
  },
  {
   "cell_type": "markdown",
   "source": [
    "### Mocking\r\n",
    "\r\n",
    "Mocking can help isolate a test environment.\r\n",
    "\r\n",
    "- `unittest.mock`  \r\n",
    "  [https://docs.python.org/3/library/unittest.mock.html](https://docs.python.org/3/library/unittest.mock.html)\r\n"
   ],
   "metadata": {}
  },
  {
   "cell_type": "markdown",
   "source": [
    "#### Patching existing functions\r\n",
    "\r\n",
    "- use `patch` decorator\r\n",
    "- need to reference where function is imported\r\n",
    "- object is passed as positional argument"
   ],
   "metadata": {}
  },
  {
   "cell_type": "code",
   "execution_count": 28,
   "source": [
    "from unittest import mock\r\n",
    "import requests\r\n",
    "\r\n",
    "\r\n",
    "@mock.patch(\"requests.get\")\r\n",
    "def test_requests(mock_get):\r\n",
    "    # arrange\r\n",
    "    url = \"https://earthquake.usgs.gov\"\r\n",
    "    expected = \"hello\"\r\n",
    "    mock_get.return_value = \"hello\"\r\n",
    "    # act\r\n",
    "    actual = requests.get(url)\r\n",
    "    # assert\r\n",
    "    mock_get.assert_called_with(url)\r\n",
    "    assert actual == expected\r\n",
    "\r\n",
    "\r\n",
    "test_requests()\r\n"
   ],
   "outputs": [],
   "metadata": {}
  },
  {
   "cell_type": "markdown",
   "source": [
    "#### Larger patching example\r\n",
    "\r\n",
    "\r\n",
    "```\r\n",
    "# examples/event_service.py\r\n",
    "\r\n",
    "class EventService:\r\n",
    "    url: str\r\n",
    "\r\n",
    "    def __init__(self, url=DEFAULT_URL):\r\n",
    "        self.url = url\r\n",
    "\r\n",
    "    def get_events(self) -> List[Dict]:\r\n",
    "        response = requests.get(self.url)\r\n",
    "        response.raise_for_status()\r\n",
    "        geojson = response.json()\r\n",
    "        return geojson[\"features\"]\r\n",
    "```"
   ],
   "metadata": {}
  },
  {
   "cell_type": "code",
   "execution_count": 30,
   "source": [
    "from unittest import mock\r\n",
    "\r\n",
    "from examples.event_service import EventService\r\n",
    "\r\n",
    "\r\n",
    "# patch the requests module used everywhere\r\n",
    "@mock.patch(\"requests.get\")\r\n",
    "def test_get_events(mock_get):\r\n",
    "    \"\"\"Test that features are returned from json response.\r\n",
    "\r\n",
    "    This test doesn't need to verify requests.get works,\r\n",
    "    only that a successful json response is handled correctly.\r\n",
    "    \"\"\"\r\n",
    "    # arrange\r\n",
    "    mock_response = mock.Mock()\r\n",
    "    mock_response.raise_for_status = mock.Mock()\r\n",
    "    mock_response.json.return_value = {\"features\": [{}, {}]}\r\n",
    "    mock_get.return_value = mock_response\r\n",
    "    service = EventService()\r\n",
    "    # act\r\n",
    "    events = service.get_events()\r\n",
    "    # assert\r\n",
    "    mock_get.assert_called_with(service.url)\r\n",
    "    assert len(events) == 2\r\n",
    "\r\n",
    "\r\n",
    "# patch only the requests module imported into examples.event_service\r\n",
    "@mock.patch(\"examples.event_service.requests.get\")\r\n",
    "def test_get_events_error(mock_get):\r\n",
    "    \"\"\"Test that exception is thrown if there are HTTP errors.\r\n",
    "\r\n",
    "    This test doesn't need to generate an actual error,\r\n",
    "    only that the method raises an error.\r\n",
    "\r\n",
    "    NOTE: There are multiple ways an error could be raised,\r\n",
    "    relying on \"raise_for_status\" is implementation specific.\r\n",
    "    \"\"\"\r\n",
    "    # arrange\r\n",
    "    mock_response = mock.Mock()\r\n",
    "    mock_response.raise_for_status.side_effect = ValueError(\"request error\")\r\n",
    "    mock_get.return_value = mock_response\r\n",
    "    service = EventService()\r\n",
    "    # act\r\n",
    "    try:\r\n",
    "        service.get_events()\r\n",
    "        # assert\r\n",
    "        assert False  # service should raise exception\r\n",
    "    except:\r\n",
    "        pass\r\n",
    "\r\n",
    "\r\n",
    "test_get_events()\r\n",
    "test_get_events_error()\r\n"
   ],
   "outputs": [],
   "metadata": {}
  },
  {
   "cell_type": "markdown",
   "source": [
    "### PyTest\r\n",
    "\r\n",
    "- used by numpy/scipy\r\n",
    "- conventions for test discovery\r\n",
    "  - `test` directory containing all tests\r\n",
    "  - folders inside for each folder in package\r\n",
    "  - test files start with `test_{module}`\r\n",
    "  - test methods start with `test_{description}`\r\n",
    "- `assert` statements for assertions\r\n",
    "- `fixture`s to define arrange logic outside test"
   ],
   "metadata": {}
  },
  {
   "cell_type": "markdown",
   "source": [
    "#### Fixture example"
   ],
   "metadata": {}
  },
  {
   "cell_type": "code",
   "execution_count": 35,
   "source": [
    "from unittest import mock\r\n",
    "import pytest\r\n",
    "from examples.event_service import EventService\r\n",
    "\r\n",
    "\r\n",
    "@pytest.fixture\r\n",
    "def event_service():\r\n",
    "    # set up before test\r\n",
    "    service = EventService()\r\n",
    "    # yield value\r\n",
    "    yield service\r\n",
    "    # cleanup after test\r\n",
    "\r\n",
    "@pytest.fixture\r\n",
    "def success_response():\r\n",
    "    features = [{}, {}]\r\n",
    "    mock_response = mock.Mock()\r\n",
    "    mock_response.raise_for_status = mock.Mock()\r\n",
    "    mock_response.json.return_value = {\"features\": features}\r\n",
    "    return mock_response\r\n",
    "\r\n",
    "\r\n",
    "@mock.patch(\"examples.event_service.requests.get\")\r\n",
    "def test_get_events(mock_get, event_service, success_response):\r\n",
    "    \"\"\"Test that features are returned from json response.\r\n",
    "\r\n",
    "    This test doesn't need to verify requests.get works,\r\n",
    "    only that a successful json response is handled correctly.\r\n",
    "    \"\"\"\r\n",
    "    # arrange\r\n",
    "    mock_get.return_value = success_response\r\n",
    "    service = EventService()\r\n",
    "    # act\r\n",
    "    events = service.get_events()\r\n",
    "    # assert\r\n",
    "    mock_get.assert_called_with(service.url)\r\n",
    "    assert len(events) == 2\r\n"
   ],
   "outputs": [],
   "metadata": {}
  },
  {
   "cell_type": "markdown",
   "source": [
    "### Coverage\r\n",
    "\r\n",
    "- Integrates with pytest using `pytest-cov`\r\n",
    "  - `pytest --cov=examples`\r\n",
    "- Instruments code to see which lines are executed.\r\n",
    "- Coverage is a useful tool, but 100% coverage is possible without useful tests."
   ],
   "metadata": {}
  },
  {
   "cell_type": "markdown",
   "source": [
    "### Gitlab Pipelines\r\n",
    "\r\n",
    "- run tests for merge requests\r\n",
    "- prevent automated deployment if tests fail\r\n",
    "\r\n",
    "\r\n",
    "```\r\n",
    "\r\n",
    "Test:\r\n",
    "  artifacts:\r\n",
    "    reports:\r\n",
    "      cobertura: coverage.xml\r\n",
    "      junit: junit.xml\r\n",
    "  before_script:\r\n",
    "    - which python\r\n",
    "    # install dependencies or use artifact for virtual environment\r\n",
    "    # - poetry install\r\n",
    "  image: ${DEVOPS_REGISTRY}usgs/python:3.8-build\r\n",
    "  script:\r\n",
    "    # run tests\r\n",
    "    - pytest --cov=examples --junitxml junit.xml\r\n",
    "    # convert pytest-cov output to coverage.xml\r\n",
    "    - coverage xml\r\n",
    "  stage: test\r\n",
    "```\r\n"
   ],
   "metadata": {}
  },
  {
   "cell_type": "markdown",
   "source": [
    "### Strategies\r\n",
    "\r\n",
    "\r\n",
    "#### Test Driven Development  \r\n",
    "\r\n",
    "Write tests before code, only write code when a test is failing\r\n",
    "\r\n",
    "\r\n",
    "#### Bug Driven Testing  \r\n",
    "\r\n",
    "Write test to reproduce bug, write code to fix failing test  \r\n",
    "  \r\n"
   ],
   "metadata": {}
  }
 ],
 "metadata": {
  "orig_nbformat": 4,
  "language_info": {
   "name": "python",
   "version": "3.8.10",
   "mimetype": "text/x-python",
   "codemirror_mode": {
    "name": "ipython",
    "version": 3
   },
   "pygments_lexer": "ipython3",
   "nbconvert_exporter": "python",
   "file_extension": ".py"
  },
  "kernelspec": {
   "name": "python3",
   "display_name": "Python 3.8.10 64-bit ('python-testing-pytest-0wVPZmhN-py3.8': poetry)"
  },
  "interpreter": {
   "hash": "7275ce4afcda1a20517d5a94bd59a269397eb016295589aeb153b1a265279767"
  }
 },
 "nbformat": 4,
 "nbformat_minor": 2
}